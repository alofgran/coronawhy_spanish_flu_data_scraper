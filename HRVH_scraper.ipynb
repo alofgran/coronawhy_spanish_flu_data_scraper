{
 "cells": [
  {
   "cell_type": "code",
   "execution_count": 1,
   "metadata": {},
   "outputs": [],
   "source": [
    "from bs4 import BeautifulSoup\n",
    "import requests"
   ]
  },
  {
   "cell_type": "code",
   "execution_count": 21,
   "metadata": {},
   "outputs": [],
   "source": [
    "search_url = 'https://news.hrvh.org/veridian/?a=q&hs=1&r=1&results=1&txq=spanish+influenza&dafdq=01&dafmq=02&dafyq=1918&datdq=31&datmq=04&datyq=1920&puq=&txf=txIN&ssnip=txt&e=01-02-1918-31-04-1920--en-20--1--txt-txIN-influenza------'\n"
   ]
  },
  {
   "cell_type": "code",
   "execution_count": 23,
   "metadata": {
    "collapsed": true,
    "jupyter": {
     "outputs_hidden": true
    }
   },
   "outputs": [
    {
     "name": "stdout",
     "output_type": "stream",
     "text": [
      "https://news.hrvh.org/veridian/?a=q&r=21&results=1&e=01-02-1918-31-04-1920--en-20--1--txt-txIN-spanish+influenza------\n",
      "https://news.hrvh.org/veridian/?a=q&r=41&results=1&e=01-02-1918-31-04-1920--en-20--1--txt-txIN-spanish+influenza------\n",
      "https://news.hrvh.org/veridian/?a=q&r=1&results=1&e=--1918---1920--en-20--1--txt-txIN-spanish+flu------\n",
      "https://news.hrvh.org/veridian/?a=q&r=21&results=1&e=--1918---1920--en-20--21--txt-txIN-spanish+flu------\n",
      "https://news.hrvh.org/veridian/?a=q&r=1&results=1&e=--1918---1920--en-20--21--txt-txIN-spanish+flu------\n",
      "https://news.hrvh.org/veridian/?a=q&r=61&results=1&e=01-02-1918-31-04-1920--en-20--1--txt-txIN-spanish+influenza------\n",
      "https://news.hrvh.org/veridian/?a=q&r=81&results=1&e=01-02-1918-31-04-1920--en-20--1--txt-txIN-spanish+influenza------\n",
      "https://news.hrvh.org/veridian/?a=q&r=1&results=1&e=01-02-1918-31-04-1920--en-20--1--txt-txIN-spanish+influenza------\n",
      "8 \n",
      " [None, None, None, None, None, None, None, None]\n",
      "54 \n",
      " {'https://news.hrvh.org/veridian/?a=d&d=jaaggbbf19181021.1.1&srpos=11&e=--1918---1920--en-20--1--txt-txIN-spanish+flu------', 'https://news.hrvh.org/veridian/?a=d&d=vcmisc19181019-01.2.12&srpos=2&e=01-02-1918-31-04-1920--en-20--1--txt-txIN-spanish+influenza------', 'https://news.hrvh.org/veridian/?a=d&d=idaibcdj19200102.1.2&srpos=29&e=--1918---1920--en-20--21--txt-txIN-spanish+flu------', 'https://news.hrvh.org/veridian/?a=d&d=jaaggbbf19181017.1.3&srpos=4&e=01-02-1918-31-04-1920--en-20--1--txt-txIN-spanish+influenza------', 'https://news.hrvh.org/veridian/?a=d&d=kingstondaily19200101.1.1&srpos=22&e=--1918---1920--en-20--21--txt-txIN-spanish+flu------', 'https://news.hrvh.org/veridian/?a=d&d=firv19181018.1.3&srpos=14&e=01-02-1918-31-04-1920--en-20--1--txt-txIN-spanish+influenza------', 'https://news.hrvh.org/veridian/?a=d&d=idaibcdj19200409.1.3&srpos=30&e=--1918---1920--en-20--21--txt-txIN-spanish+flu------', 'https://news.hrvh.org/veridian/?a=d&d=jaaggbbf19190329.1.4&srpos=4&e=--1918---1920--en-20--1--txt-txIN-spanish+flu------', 'https://news.hrvh.org/veridian/?a=d&d=ijahbbcg19181106.1.2&srpos=11&e=01-02-1918-31-04-1920--en-20--1--txt-txIN-spanish+influenza------', 'https://news.hrvh.org/veridian/?a=d&d=ijahbbcg19181016.1.8&srpos=6&e=01-02-1918-31-04-1920--en-20--1--txt-txIN-spanish+influenza------', 'https://news.hrvh.org/veridian/?a=d&d=jaaggbbf19181210.1.3&srpos=21&e=--1918---1920--en-20--21--txt-txIN-spanish+flu------', 'https://news.hrvh.org/veridian/?a=d&d=idaibcdj19190919.1.7&srpos=12&e=--1918---1920--en-20--1--txt-txIN-spanish+flu------', 'https://news.hrvh.org/veridian/?a=d&d=jaaggbbf19190717.1.5&srpos=14&e=--1918---1920--en-20--1--txt-txIN-spanish+flu------', 'https://news.hrvh.org/veridian/?a=d&d=jaaggbbf19190602.1.7&srpos=26&e=--1918---1920--en-20--21--txt-txIN-spanish+flu------', 'https://news.hrvh.org/veridian/?a=d&d=idaibcdj19181129.1.4&srpos=17&e=01-02-1918-31-04-1920--en-20--1--txt-txIN-spanish+influenza------', 'https://news.hrvh.org/veridian/?a=d&d=bronxrev19181018.1.4&srpos=18&e=01-02-1918-31-04-1920--en-20--1--txt-txIN-spanish+influenza------', 'https://news.hrvh.org/veridian/?a=d&d=ijahbbcg19181023.1.4&srpos=8&e=01-02-1918-31-04-1920--en-20--1--txt-txIN-spanish+influenza------', 'https://news.hrvh.org/veridian/?a=d&d=jaaggbbf19200309.1.5&srpos=19&e=01-02-1918-31-04-1920--en-20--1--txt-txIN-spanish+influenza------', 'https://news.hrvh.org/veridian/?a=d&d=idaibcdj19200227.1.6&srpos=16&e=--1918---1920--en-20--1--txt-txIN-spanish+flu------', 'https://news.hrvh.org/veridian/?a=d&d=jaaggbbf19181102.1.2&srpos=7&e=01-02-1918-31-04-1920--en-20--1--txt-txIN-spanish+influenza------', 'https://news.hrvh.org/veridian/?a=d&d=idaibcdj19181108.1.5&srpos=24&e=--1918---1920--en-20--21--txt-txIN-spanish+flu------', 'https://news.hrvh.org/veridian/?a=d&d=cehahgjd19200723.1.2&srpos=19&e=--1918---1920--en-20--1--txt-txIN-spanish+flu------', 'https://news.hrvh.org/veridian/?a=d&d=jaaggbbf19190825.1.7&srpos=7&e=--1918---1920--en-20--1--txt-txIN-spanish+flu------', 'https://news.hrvh.org/veridian/?a=d&d=bronxrev19181011.1.3&srpos=15&e=01-02-1918-31-04-1920--en-20--1--txt-txIN-spanish+influenza------', 'https://news.hrvh.org/veridian/?a=d&d=jaaggbbf19181008.1.4&srpos=13&e=--1918---1920--en-20--1--txt-txIN-spanish+flu------', 'https://news.hrvh.org#', 'https://news.hrvh.org/veridian/?a=d&d=kingstondaily19190101-01.1.3&srpos=33&e=--1918---1920--en-20--21--txt-txIN-spanish+flu------', 'https://news.hrvh.org/veridian/?a=d&d=vcmisc19181009-01.2.4&srpos=1&e=01-02-1918-31-04-1920--en-20--1--txt-txIN-spanish+influenza------', 'https://news.hrvh.org/veridian/?a=d&d=jaaggbbf19200302.1.8&srpos=1&e=--1918---1920--en-20--1--txt-txIN-spanish+flu------', 'https://news.hrvh.org/veridian/?a=d&d=jaaggbbf19190129.1.1&srpos=27&e=--1918---1920--en-20--21--txt-txIN-spanish+flu------', 'https://news.hrvh.org/veridian/?a=d&d=firv19181206.1.4&srpos=13&e=01-02-1918-31-04-1920--en-20--1--txt-txIN-spanish+influenza------', 'https://news.hrvh.org/veridian/?a=d&d=idaibcdj19181018.1.6&srpos=20&e=--1918---1920--en-20--1--txt-txIN-spanish+flu------', 'https://news.hrvh.org/veridian/?a=d&d=rocklandctytimes19181123.1.6&srpos=5&e=01-02-1918-31-04-1920--en-20--1--txt-txIN-spanish+influenza------', 'https://news.hrvh.org/veridian/?a=d&d=kingstondaily19190101-02.1.3&srpos=31&e=--1918---1920--en-20--21--txt-txIN-spanish+flu------', 'https://news.hrvh.org/veridian/?a=d&d=idaibcdj19181018.1.6&srpos=20&e=01-02-1918-31-04-1920--en-20--1--txt-txIN-spanish+influenza------', 'https://news.hrvh.org/veridian/?a=d&d=ijahbbcg19181030.1.4&srpos=17&e=--1918---1920--en-20--1--txt-txIN-spanish+flu------', 'https://news.hrvh.org/veridian/?a=d&d=firv19200130.1.2&srpos=32&e=--1918---1920--en-20--21--txt-txIN-spanish+flu------', 'https://news.hrvh.org/veridian/?a=d&d=jaaggbbf19181019.1.1&srpos=16&e=01-02-1918-31-04-1920--en-20--1--txt-txIN-spanish+influenza------', 'https://news.hrvh.org/veridian/?a=d&d=idaibcdj19181018.1.5&srpos=12&e=01-02-1918-31-04-1920--en-20--1--txt-txIN-spanish+influenza------', 'https://news.hrvh.org/veridian/?a=d&d=idaibcdj19190210.1.6&srpos=25&e=--1918---1920--en-20--21--txt-txIN-spanish+flu------', 'https://news.hrvh.org/veridian/?a=d&d=jaaggbbf19181209.1.8&srpos=5&e=--1918---1920--en-20--1--txt-txIN-spanish+flu------', 'https://news.hrvh.org/veridian/?a=d&d=firv19181004.1.2&srpos=28&e=--1918---1920--en-20--21--txt-txIN-spanish+flu------', 'https://news.hrvh.org/veridian/?a=d&d=bronxrev19181101.1.6&srpos=10&e=01-02-1918-31-04-1920--en-20--1--txt-txIN-spanish+influenza------', 'https://news.hrvh.org/veridian/?a=d&d=jaaggbbf19181018.1.3&srpos=2&e=--1918---1920--en-20--1--txt-txIN-spanish+flu------', 'https://news.hrvh.org/veridian/?a=d&d=bronxrev19201016.1.11&srpos=8&e=--1918---1920--en-20--1--txt-txIN-spanish+flu------', 'https://news.hrvh.org/veridian/?a=d&d=theeastchester19180717.1.2&srpos=18&e=--1918---1920--en-20--1--txt-txIN-spanish+flu------', 'https://news.hrvh.org/veridian/?a=d&d=jaaggbbf19191114.1.10&srpos=10&e=--1918---1920--en-20--1--txt-txIN-spanish+flu------', 'https://news.hrvh.org/veridian/?a=d&d=theeastchester19181030.1.3&srpos=9&e=01-02-1918-31-04-1920--en-20--1--txt-txIN-spanish+influenza------', 'https://news.hrvh.org/veridian/?a=d&d=jaaggbbf19190818.1.3&srpos=9&e=--1918---1920--en-20--1--txt-txIN-spanish+flu------', 'https://news.hrvh.org/veridian/?a=d&d=idaibcdj19181101.1.5&srpos=23&e=--1918---1920--en-20--21--txt-txIN-spanish+flu------', 'https://news.hrvh.org/veridian/?a=d&d=jaaggbbf19181018.1.3&srpos=3&e=01-02-1918-31-04-1920--en-20--1--txt-txIN-spanish+influenza------', 'https://news.hrvh.org/veridian/?a=d&d=jaaggbbf19200309.1.5&srpos=3&e=--1918---1920--en-20--1--txt-txIN-spanish+flu------', 'https://news.hrvh.org/veridian/?a=d&d=jaaggbbf19190515.1.7&srpos=6&e=--1918---1920--en-20--1--txt-txIN-spanish+flu------', 'https://news.hrvh.org/veridian/?a=d&d=jaaggbbf19190814.1.3&srpos=15&e=--1918---1920--en-20--1--txt-txIN-spanish+flu------'}\n"
     ]
    }
   ],
   "source": [
    "#Get the content for the current url\n",
    "resp = requests.get(search_url)\n",
    "soup = BeautifulSoup(resp.content, 'html.parser')\n",
    "\n",
    "#Find the search results section on the page\n",
    "search_results_page = soup.find_all(id='searchpagesearchresultscell')\n",
    "result_links = search_results_page[0].find_all('a', href=True)\n",
    "\n",
    "#sort the links out to their appropriate list\n",
    "for link in result_links:\n",
    "    if 'results' not in link.get('href'):\n",
    "        article_links.add(''.join((root_url, link.get('href'))))\n",
    "        continue\n",
    "    else:\n",
    "        if link not in visited_pages:\n",
    "            unvisited_pages.add(''.join((root_url, link.get('href'))))\n",
    "            \n",
    "print(len(unvisited_pages), '\\n', [print(i) for i in unvisited_pages])\n",
    "print(len(article_links), '\\n', article_links)"
   ]
  },
  {
   "cell_type": "code",
   "execution_count": null,
   "metadata": {},
   "outputs": [],
   "source": [
    "root_url = 'https://news.hrvh.org'\n",
    "# seed_url = 'https://news.hrvh.org/veridian/?a=q&hs=1&r=1&results=1&txf=txIN&txq=spanish+flu&e=-------en-20--101--txt-txIN-spanish+flu------'\n",
    "seed_url = 'https://news.hrvh.org/veridian/?a=q&hs=1&r=1&results=1&txq=spanish+flu&dafdq=&dafmq=&dafyq=1918&datdq=&datmq=&datyq=1920&puq=&txf=txIN&ssnip=txt&e=-------en-20--1--txt-txIN-spanish+flu------'\n",
    "\n",
    "article_links = set()\n",
    "unvisited_pages = set()\n",
    "visited_pages = set()\n",
    "unvisited_pages.add(seed_url)\n",
    "\n",
    "while unvisited_pages:\n",
    "    print('\\n', '{} pages to visit'.format(len(unvisited_pages)))\n",
    "    print([print(u) for u in unvisited_pages])\n",
    "    #Remove it from the unvisited pages set\n",
    "    current_url = unvisited_pages.pop()\n",
    "    print('Visiting: ', current_url)\n",
    "    \n",
    "    #Mark the current url as visited\n",
    "    visited_pages.add(current_url)    \n",
    "    print('Visited {} pages: '.format(len(visited_pages)))\n",
    "    print([print(v) for v in visited_pages])\n",
    "    \n",
    "    #Get the content for the current url\n",
    "    resp = requests.get(current_url)\n",
    "    soup = BeautifulSoup(resp.content, 'html.parser')\n",
    "\n",
    "    #Find the search results section on the page\n",
    "    search_results_page = soup.find_all(id='searchpagesearchresultscell')\n",
    "    result_links = search_results_page[0].find_all('a', href=True)\n",
    "\n",
    "    #Divvy the links out to their appropriate list\n",
    "    for link in result_links:\n",
    "        if 'results' not in link.get('href'):\n",
    "            article_links.add(''.join((root_url, link.get('href'))))\n",
    "            continue\n",
    "        else:\n",
    "            if link not in visited_pages:\n",
    "                unvisited_pages.add(''.join((root_url, link.get('href'))))\n",
    "\n",
    "#         print('visited: ', len(visited_pages))\n",
    "#         print('unvisited: ', len(unvisited_pages))\n",
    "\n",
    "return article_links, unvisited_pages\n",
    "\n",
    "article_links, unvisited_pages = get_links_on_page(unvisited_pages)\n",
    "print(' Article links: ', len(article_links), '\\n', \n",
    "      'Search page links: ', len(unvisited_pages))"
   ]
  },
  {
   "cell_type": "code",
   "execution_count": null,
   "metadata": {},
   "outputs": [],
   "source": [
    "visited_pages = set()\n",
    "\n",
    "#Get links from all unvisited pages\n",
    "\n",
    "\n",
    "while unvisited_pages:\n",
    "#     unvisited_pages = set(p for p in unvisited_pages if len(p)>1)\n",
    "#     print(unvisited_pages)\n",
    "    current_url = unvisited_pages.pop()\n",
    "    articles, searches = get_links_on_page(current_url)\n",
    "    article_links.update(articles)\n",
    "\n",
    "    #Mark the current page as visited\n",
    "    visited_pages.add(current_url)\n",
    "\n",
    "    for url in searches:\n",
    "        if url not in visited_pages:\n",
    "            unvisited_pages.update(url) #append if it hasn't been visited\n",
    "\n",
    "    print('visited: ', len(visited_pages))\n",
    "    print('unvisited: ', len(unvisited_pages))\n",
    "    \n",
    "    \n",
    "# print(len(unvisited_pages))\n",
    "# print(len(article_links))"
   ]
  },
  {
   "cell_type": "code",
   "execution_count": null,
   "metadata": {},
   "outputs": [],
   "source": []
  },
  {
   "cell_type": "code",
   "execution_count": null,
   "metadata": {},
   "outputs": [],
   "source": []
  },
  {
   "cell_type": "code",
   "execution_count": null,
   "metadata": {},
   "outputs": [],
   "source": []
  }
 ],
 "metadata": {
  "kernelspec": {
   "display_name": "Python 3",
   "language": "python",
   "name": "python3"
  },
  "language_info": {
   "codemirror_mode": {
    "name": "ipython",
    "version": 3
   },
   "file_extension": ".py",
   "mimetype": "text/x-python",
   "name": "python",
   "nbconvert_exporter": "python",
   "pygments_lexer": "ipython3",
   "version": "3.7.6"
  }
 },
 "nbformat": 4,
 "nbformat_minor": 4
}
